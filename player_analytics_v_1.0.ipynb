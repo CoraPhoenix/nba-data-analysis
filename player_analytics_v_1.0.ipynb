{
 "cells": [
  {
   "cell_type": "markdown",
   "id": "54a77d79",
   "metadata": {},
   "source": [
    "# Basic Web Scraping with Python - NBA Player Data"
   ]
  },
  {
   "cell_type": "markdown",
   "id": "b7647e08",
   "metadata": {},
   "source": [
    "### Importing Libraries"
   ]
  },
  {
   "cell_type": "code",
   "execution_count": 1,
   "id": "9b58265f",
   "metadata": {},
   "outputs": [],
   "source": [
    "from bs4 import BeautifulSoup as soup\n",
    "from urllib.request import urlopen as uReq\n",
    "import pandas as pd"
   ]
  },
  {
   "cell_type": "markdown",
   "id": "6d76513b",
   "metadata": {},
   "source": [
    "### Getting raw HTML data"
   ]
  },
  {
   "cell_type": "code",
   "execution_count": 20,
   "id": "192b6876",
   "metadata": {},
   "outputs": [
    {
     "name": "stdout",
     "output_type": "stream",
     "text": [
      "Type a player name: LeBron James\n"
     ]
    },
    {
     "data": {
      "text/plain": [
       "'https://www.basketball-reference.com/players/j/jamesle01.html'"
      ]
     },
     "execution_count": 20,
     "metadata": {},
     "output_type": "execute_result"
    }
   ],
   "source": [
    "# Getting URL\n",
    "name = input(\"Type a player name: \")\n",
    "name = name.lower().split(\" \")\n",
    "\n",
    "last = name[-1] if len(name[-1]) <= 5 else name[-1][:5]\n",
    "first = name[0] if len(name[0]) <= 2 else name[0][:2]\n",
    "key = last + first\n",
    "\n",
    "my_url = \"https://www.basketball-reference.com/players/{}/{}01.html\".format(key[0], key)\n",
    "my_url\n"
   ]
  },
  {
   "cell_type": "code",
   "execution_count": 21,
   "id": "e8e63e99",
   "metadata": {},
   "outputs": [],
   "source": [
    "uClient = uReq(my_url)\n",
    "page_html = uClient.read()\n",
    "uClient.close()\n",
    "\n",
    "page_soup = soup(page_html, 'html.parser')"
   ]
  },
  {
   "cell_type": "markdown",
   "id": "8893b06a",
   "metadata": {},
   "source": [
    "### Find and extract relevant data"
   ]
  },
  {
   "cell_type": "code",
   "execution_count": 26,
   "id": "e8637101",
   "metadata": {},
   "outputs": [
    {
     "data": {
      "text/plain": [
       "<div id=\"meta\">\n",
       "<div class=\"media-item\"><img alt=\"Photo of LeBron James\" itemscope=\"image\" src=\"https://www.basketball-reference.com/req/202106291/images/players/jamesle01.jpg\"/>\n",
       "</div><!-- div.media-item --><div>\n",
       "<h1>\n",
       "<span>LeBron James</span>\n",
       "</h1>\n",
       "<!-- all other pages -->\n",
       "<p>\n",
       "<strong>\n",
       "<strong>LeBron Raymone James</strong>\n",
       "</strong>\n",
       "    \n",
       "  ▪\n",
       "  <a href=\"/friv/twitter.html\">Twitter</a>:\n",
       "  <a href=\"https://twitter.com/KingJames\">KingJames</a>\n",
       "  \n",
       "  \n",
       "  ▪\n",
       "  Instagram:\n",
       "  <a href=\"https://instagram.com/kingjames\">kingjames</a>\n",
       "</p>\n",
       "<p>\n",
       "(King James, LBJ, Chosen One, Bron-Bron, The Little Emperor, The Akron Hammer, L-Train, Benjamin Buckets)\n",
       "</p>\n",
       "<p>\n",
       "<strong>\n",
       "  Position:\n",
       "  </strong>\n",
       "  Small Forward, Power Forward, Point Guard, and Shooting Guard\n",
       "\n",
       "\n",
       "  \n",
       "  ▪\n",
       "  \n",
       "  <strong>\n",
       "  Shoots:\n",
       "  </strong>\n",
       "  Right\n",
       "</p>\n",
       "<p><span>6-9</span>, <span>250lb</span> (206cm, 113kg) </p>\n",
       "<p>\n",
       "<strong>Born: </strong>\n",
       "<span data-birth=\"1984-12-30\" id=\"necro-birth\">\n",
       "<a href=\"/friv/birthdays.fcgi?month=12&amp;day=30\">December 30</a>,\n",
       "            <a href=\"/friv/birthyears.fcgi?year=1984\">1984</a>\n",
       "</span>\n",
       "<span>\n",
       "    in Akron, <a href=\"/friv/birthplaces.fcgi?country=US&amp;state=OH\">Ohio</a></span>\n",
       "<span class=\"f-i f-us\" style=\"\">us</span>\n",
       "</p>\n",
       "<p>\n",
       "<strong>\n",
       "    \n",
       "      High School:\n",
       "    \n",
       "    </strong>\n",
       "    \n",
       "      St. Vincent-St. Mary in Akron, <a href=\"/friv/high_schools.fcgi?country=US&amp;state=OH\">Ohio</a>\n",
       "</p>\n",
       "<p>\n",
       "<strong>Recruiting Rank: </strong> <a href=\"/awards/recruit_rankings_2003.html\">2003</a> (1)\n",
       "</p>\n",
       "<p>\n",
       "<strong>\n",
       "  Draft:\n",
       "  </strong>\n",
       "<a href=\"/teams/CLE/draft.html\">Cleveland Cavaliers</a>, 1st round (1st pick, 1st overall), <a href=\"/draft/NBA_2003.html\">2003 NBA Draft</a>\n",
       "</p>\n",
       "<p>\n",
       "<strong>NBA Debut: </strong><a href=\"/boxscores/200310290SAC.html\">October 29, 2003</a>\n",
       "</p>\n",
       "<p>\n",
       "<strong>Experience:</strong> 19 years\n",
       "  \n",
       "</p>\n",
       "<button class=\"opener\" data-class=\"open\" data-id=\"info\" data-type=\"hide_after\" id=\"meta_more_button\">More bio, uniform, draft, salary info</button>\n",
       "<script>\n",
       "// see sr.menus.js:sr_menus_checkInfoCookie to explain\n",
       "function sr_menus_checkInfoCookie_inline(browserType) {\n",
       "    var el_info = document.getElementById('info');\n",
       "    var el_button = document.getElementById('meta_more_button');\n",
       "    var bling_len = 4;    \n",
       "    if (!el_button || !el_info || !el_info.classList) { console.log('no meta_button'); return; }\n",
       "    var el = el_button;\n",
       "    var siblingsHidden = 0;\n",
       "    while (el = el.previousSibling) { if ((el.nodeType === 1) && (el.offsetWidth <= 0 || el.offsetHeight <= 0)) { siblingsHidden++; } }\n",
       "    var button_cookie = false;\n",
       "    if (browserType === 'desktop') {  button_cookie = vjs_readCookie('meta_more_button');   }\n",
       "    // We allow up to four of bling lines or additional player bio data entries in mobile.\n",
       "    if (el_info && el_button && (button_cookie || (siblingsHidden + bling_len <= 4))) {el_button.parentNode.removeChild(el_button);\tel_info.classList.add('open');  }\n",
       "    else { el_button.classList.add('show');  }\n",
       "}\n",
       "if (Modernizr.desktop || Modernizr.laptop) { sr_menus_checkInfoCookie_inline('desktop'); } else { sr_menus_checkInfoCookie_inline('mobile'); }\n",
       "var sr_menus_checkInfoCookie_run_inline = true;\n",
       "</script>\n",
       "</div>\n",
       "</div>"
      ]
     },
     "execution_count": 26,
     "metadata": {},
     "output_type": "execute_result"
    }
   ],
   "source": [
    "player_data = page_soup.find('div', {'id': 'meta'})\n",
    "player_data"
   ]
  },
  {
   "cell_type": "code",
   "execution_count": 75,
   "id": "b16c4707",
   "metadata": {},
   "outputs": [
    {
     "data": {
      "text/plain": [
       "'October 29, 2003'"
      ]
     },
     "execution_count": 75,
     "metadata": {},
     "output_type": "execute_result"
    }
   ],
   "source": [
    "full_name = player_data.find(\"strong\").text[1:-1]\n",
    "birth_date = [item.text for item in player_data.find(\"span\", {'id': 'necro-birth'}).findAll(\"a\")]\n",
    "birth_date = \" \".join([birth_date[0].split(\" \")[1], birth_date[0].split(\" \")[0], birth_date[1]])\n",
    "weight = player_data.findAll(\"p\")[3].text.split(\"\\xa0\")[-1][:-2]\n",
    "height = player_data.findAll(\"p\")[3].text.split(\"\\xa0\")[-2][1:-1]\n",
    "school = player_data.findAll(\"p\")[5].text.split(\"\\n\")[-2].lstrip()\n",
    "debut = player_data.findAll(\"p\")[-2].find(\"a\").text\n",
    "debut"
   ]
  },
  {
   "cell_type": "code",
   "execution_count": 86,
   "id": "7c93dd57",
   "metadata": {},
   "outputs": [
    {
     "data": {
      "text/plain": [
       "['LeBron Raymone James',\n",
       " '30 December 1984',\n",
       " '113kg',\n",
       " '206cm',\n",
       " 'St. Vincent-St. Mary in Akron, Ohio',\n",
       " 'October 29, 2003',\n",
       " '1411',\n",
       " '27.2',\n",
       " '7.5',\n",
       " '7.3',\n",
       " '50.5',\n",
       " '34.4',\n",
       " '73.5',\n",
       " '54.5',\n",
       " '27.3',\n",
       " '254.5']"
      ]
     },
     "execution_count": 86,
     "metadata": {},
     "output_type": "execute_result"
    }
   ],
   "source": [
    "header = [\"Full Name\", \"Birth Date\", \"Weight (kg)\", \"Height (cm)\", \"School\", \"Debut Date\"]\n",
    "data = [full_name, birth_date, weight, height, school, debut]\n",
    "\n",
    "for div in page_soup.find('div', {'class': 'p1'}).findAll(\"div\"):\n",
    "    header.append(div.find(\"strong\").text)\n",
    "    data.append(div.findAll(\"p\")[1].text)\n",
    "\n",
    "for div in page_soup.find('div', {'class': 'p2'}).findAll(\"div\"):\n",
    "    header.append(div.find(\"strong\").text)\n",
    "    data.append(div.findAll(\"p\")[1].text)\n",
    "\n",
    "for div in page_soup.find('div', {'class': 'p3'}).findAll(\"div\"):\n",
    "    header.append(div.find(\"strong\").text)\n",
    "    data.append(div.findAll(\"p\")[1].text)\n",
    "    \n",
    "data"
   ]
  },
  {
   "cell_type": "code",
   "execution_count": 88,
   "id": "4e3f6038",
   "metadata": {},
   "outputs": [
    {
     "data": {
      "text/html": [
       "<div>\n",
       "<style scoped>\n",
       "    .dataframe tbody tr th:only-of-type {\n",
       "        vertical-align: middle;\n",
       "    }\n",
       "\n",
       "    .dataframe tbody tr th {\n",
       "        vertical-align: top;\n",
       "    }\n",
       "\n",
       "    .dataframe thead th {\n",
       "        text-align: right;\n",
       "    }\n",
       "</style>\n",
       "<table border=\"1\" class=\"dataframe\">\n",
       "  <thead>\n",
       "    <tr style=\"text-align: right;\">\n",
       "      <th></th>\n",
       "      <th>Full Name</th>\n",
       "      <th>Birth Date</th>\n",
       "      <th>Weight (kg)</th>\n",
       "      <th>Height (cm)</th>\n",
       "      <th>School</th>\n",
       "      <th>Debut Date</th>\n",
       "      <th>G</th>\n",
       "      <th>PTS</th>\n",
       "      <th>TRB</th>\n",
       "      <th>AST</th>\n",
       "      <th>FG%</th>\n",
       "      <th>FG3%</th>\n",
       "      <th>FT%</th>\n",
       "      <th>eFG%</th>\n",
       "      <th>PER</th>\n",
       "      <th>WS</th>\n",
       "    </tr>\n",
       "  </thead>\n",
       "  <tbody>\n",
       "    <tr>\n",
       "      <th>0</th>\n",
       "      <td>LeBron Raymone James</td>\n",
       "      <td>30 December 1984</td>\n",
       "      <td>113kg</td>\n",
       "      <td>206cm</td>\n",
       "      <td>St. Vincent-St. Mary in Akron, Ohio</td>\n",
       "      <td>October 29, 2003</td>\n",
       "      <td>1411</td>\n",
       "      <td>27.2</td>\n",
       "      <td>7.5</td>\n",
       "      <td>7.3</td>\n",
       "      <td>50.5</td>\n",
       "      <td>34.4</td>\n",
       "      <td>73.5</td>\n",
       "      <td>54.5</td>\n",
       "      <td>27.3</td>\n",
       "      <td>254.5</td>\n",
       "    </tr>\n",
       "  </tbody>\n",
       "</table>\n",
       "</div>"
      ],
      "text/plain": [
       "              Full Name        Birth Date Weight (kg) Height (cm)  \\\n",
       "0  LeBron Raymone James  30 December 1984       113kg       206cm   \n",
       "\n",
       "                                School        Debut Date     G   PTS  TRB  \\\n",
       "0  St. Vincent-St. Mary in Akron, Ohio  October 29, 2003  1411  27.2  7.5   \n",
       "\n",
       "   AST   FG%  FG3%   FT%  eFG%   PER     WS  \n",
       "0  7.3  50.5  34.4  73.5  54.5  27.3  254.5  "
      ]
     },
     "execution_count": 88,
     "metadata": {},
     "output_type": "execute_result"
    }
   ],
   "source": [
    "frame = pd.DataFrame([data], columns=header)\n",
    "frame"
   ]
  },
  {
   "cell_type": "code",
   "execution_count": null,
   "id": "60711540",
   "metadata": {},
   "outputs": [],
   "source": []
  }
 ],
 "metadata": {
  "kernelspec": {
   "display_name": "Python 3 (ipykernel)",
   "language": "python",
   "name": "python3"
  },
  "language_info": {
   "codemirror_mode": {
    "name": "ipython",
    "version": 3
   },
   "file_extension": ".py",
   "mimetype": "text/x-python",
   "name": "python",
   "nbconvert_exporter": "python",
   "pygments_lexer": "ipython3",
   "version": "3.8.13"
  }
 },
 "nbformat": 4,
 "nbformat_minor": 5
}
